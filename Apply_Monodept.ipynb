{
  "nbformat": 4,
  "nbformat_minor": 0,
  "metadata": {
    "colab": {
      "name": "Apply Monodept.ipynb",
      "provenance": [],
      "collapsed_sections": [
        "2t9O5OsJ0UMq",
        "Knb75W9ImFmE"
      ],
      "authorship_tag": "ABX9TyPwErf+P+Ab3E17uPTirKPD",
      "include_colab_link": true
    },
    "kernelspec": {
      "display_name": "Python 3",
      "name": "python3"
    },
    "language_info": {
      "name": "python"
    },
    "accelerator": "GPU"
  },
  "cells": [
    {
      "cell_type": "markdown",
      "metadata": {
        "id": "view-in-github",
        "colab_type": "text"
      },
      "source": [
        "<a href=\"https://colab.research.google.com/github/trantoai1/GraduatedProject/blob/main/Apply_Monodept.ipynb\" target=\"_parent\"><img src=\"https://colab.research.google.com/assets/colab-badge.svg\" alt=\"Open In Colab\"/></a>"
      ]
    },
    {
      "cell_type": "code",
      "metadata": {
        "id": "ui6kQPHkPsJH"
      },
      "source": [
        "from google.colab import drive\n",
        "drive._mount('/content/drive')\n",
        "%cd /content/drive/MyDrive/SSL/monodepth2"
      ],
      "execution_count": null,
      "outputs": []
    },
    {
      "cell_type": "markdown",
      "metadata": {
        "id": "RIcy9MwWYR5w"
      },
      "source": [
        "# Evaluation"
      ]
    },
    {
      "cell_type": "markdown",
      "metadata": {
        "id": "xppmejUy6stA"
      },
      "source": [
        "rmse được tính dựa trên công thức sau:\n",
        "gt là độ sâu thực\n",
        "pred là độ sâu dự đoán\n",
        "\n",
        "rmse = (gt - pred) ** 2 \n",
        "\n",
        "rmse = torch.sqrt(rmse.mean())\n",
        "\n",
        "rmse = Căn trung bình của bình phương sai số giữa độ sâu thực và độ sâu dự đoán"
      ]
    },
    {
      "cell_type": "markdown",
      "metadata": {
        "id": "8fxxjE1X7jkP"
      },
      "source": [
        "Cùng với ngưỡng cắt 50% thì prune theo độ quan trọng layer sẽ cho sai số nhỏ hơn cắt toàn bộ 50%"
      ]
    },
    {
      "cell_type": "markdown",
      "metadata": {
        "id": "BF45tokz3gBw"
      },
      "source": [
        "##Evaluate origin model"
      ]
    },
    {
      "cell_type": "code",
      "metadata": {
        "colab": {
          "base_uri": "https://localhost:8080/"
        },
        "id": "g6Qmnfqo5cGq",
        "outputId": "18ff6bc3-5683-4b6d-f24c-d9916c8c07a8"
      },
      "source": [
        "!python evaluate_depth.py --load_weights_folder /content/drive/MyDrive/SSL/monodepth2/models/mono_640x192/ --eval_mono"
      ],
      "execution_count": null,
      "outputs": [
        {
          "output_type": "stream",
          "name": "stdout",
          "text": [
            "-> Loading weights from /content/drive/MyDrive/SSL/monodepth2/models/mono_640x192/\n",
            "/usr/local/lib/python3.7/dist-packages/torchvision/transforms/transforms.py:288: UserWarning: Argument interpolation should be of type InterpolationMode instead of int. Please, use InterpolationMode enum.\n",
            "  \"Argument interpolation should be of type InterpolationMode instead of int. \"\n",
            "/usr/local/lib/python3.7/dist-packages/torch/utils/data/dataloader.py:481: UserWarning: This DataLoader will create 12 worker processes in total. Our suggested max number of worker in current system is 2, which is smaller than what this DataLoader is going to create. Please be aware that excessive worker creation might get DataLoader running slow or even freeze, lower the worker number to avoid potential slowness/freeze if necessary.\n",
            "  cpuset_checked))\n",
            "-> Computing predictions with size 640x192\n",
            "-> Evaluating\n",
            "   Mono evaluation - using median scaling\n",
            " Scaling ratios | med: 31.257 | std: 0.089\n",
            "\n",
            "   abs_rel |   sq_rel |     rmse | rmse_log |       a1 |       a2 |       a3 | \n",
            "&   0.115  &   0.905  &   4.863  &   0.193  &   0.877  &   0.959  &   0.981  \\\\\n",
            "\n",
            "-> Done!\n"
          ]
        }
      ]
    },
    {
      "cell_type": "markdown",
      "metadata": {
        "id": "v1SGU3TVobZY"
      },
      "source": [
        "##Evaluate pruned model"
      ]
    },
    {
      "cell_type": "code",
      "metadata": {
        "colab": {
          "base_uri": "https://localhost:8080/"
        },
        "id": "XUhlQjwXoB6t",
        "outputId": "3857272a-1634-4917-a90a-00229694e935"
      },
      "source": [
        "!python evaluate_depth.py --load_weights_folder /content/drive/MyDrive/SSL/monodepth2/testprune/mono_640x192/models/weights_1/ --eval_mono"
      ],
      "execution_count": 2,
      "outputs": [
        {
          "output_type": "stream",
          "name": "stdout",
          "text": [
            "-> Loading weights from /content/drive/MyDrive/SSL/monodepth2/testprune/mono_640x192/models/weights_1/\n",
            "/usr/local/lib/python3.7/dist-packages/torchvision/transforms/transforms.py:288: UserWarning: Argument interpolation should be of type InterpolationMode instead of int. Please, use InterpolationMode enum.\n",
            "  \"Argument interpolation should be of type InterpolationMode instead of int. \"\n",
            "/usr/local/lib/python3.7/dist-packages/torch/utils/data/dataloader.py:481: UserWarning: This DataLoader will create 12 worker processes in total. Our suggested max number of worker in current system is 2, which is smaller than what this DataLoader is going to create. Please be aware that excessive worker creation might get DataLoader running slow or even freeze, lower the worker number to avoid potential slowness/freeze if necessary.\n",
            "  cpuset_checked))\n",
            "-> Computing predictions with size 640x192\n",
            "-> Evaluating\n",
            "   Mono evaluation - using median scaling\n",
            " Scaling ratios | med: 43.111 | std: 0.164\n",
            "\n",
            "   abs_rel |   sq_rel |     rmse | rmse_log |       a1 |       a2 |       a3 | \n",
            "&   0.443  &   4.760  &  12.082  &   0.588  &   0.303  &   0.560  &   0.766  \\\\\n",
            "\n",
            "-> Done!\n"
          ]
        }
      ]
    }
  ]
}