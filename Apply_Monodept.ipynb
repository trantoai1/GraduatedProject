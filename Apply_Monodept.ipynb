{
  "nbformat": 4,
  "nbformat_minor": 0,
  "metadata": {
    "colab": {
      "name": "Apply Monodept.ipynb",
      "provenance": [],
      "collapsed_sections": [
        "2t9O5OsJ0UMq",
        "Knb75W9ImFmE"
      ],
      "authorship_tag": "ABX9TyMUl/YiOafLusHhFabCxvfQ",
      "include_colab_link": true
    },
    "kernelspec": {
      "display_name": "Python 3",
      "name": "python3"
    },
    "language_info": {
      "name": "python"
    },
    "accelerator": "GPU"
  },
  "cells": [
    {
      "cell_type": "markdown",
      "metadata": {
        "id": "view-in-github",
        "colab_type": "text"
      },
      "source": [
        "<a href=\"https://colab.research.google.com/github/trantoai1/GraduatedProject/blob/main/Apply_Monodept.ipynb\" target=\"_parent\"><img src=\"https://colab.research.google.com/assets/colab-badge.svg\" alt=\"Open In Colab\"/></a>"
      ]
    },
    {
      "cell_type": "code",
      "metadata": {
        "colab": {
          "base_uri": "https://localhost:8080/"
        },
        "id": "ui6kQPHkPsJH",
        "outputId": "25d2fb9c-b439-4ab0-f762-24bcae851bb0"
      },
      "source": [
        "from google.colab import drive\n",
        "drive.mount('/content/drive')"
      ],
      "execution_count": null,
      "outputs": [
        {
          "output_type": "stream",
          "name": "stdout",
          "text": [
            "Mounted at /content/drive\n"
          ]
        }
      ]
    },
    {
      "cell_type": "markdown",
      "metadata": {
        "id": "HQ1A3_1MtSCY"
      },
      "source": [
        "# Prepare\n"
      ]
    },
    {
      "cell_type": "markdown",
      "metadata": {
        "id": "FEeXchkB7Rah"
      },
      "source": [
        "## SSH\n"
      ]
    },
    {
      "cell_type": "code",
      "metadata": {
        "id": "YNFCHERDY8sj"
      },
      "source": [
        ""
      ],
      "execution_count": null,
      "outputs": []
    },
    {
      "cell_type": "markdown",
      "metadata": {
        "id": "2t9O5OsJ0UMq"
      },
      "source": [
        "## install requirements for prunning"
      ]
    },
    {
      "cell_type": "markdown",
      "metadata": {
        "id": "pmhKfq4rk0K1"
      },
      "source": [
        "for z in *.zip; do unzip $z && rm $z; done"
      ]
    },
    {
      "cell_type": "code",
      "metadata": {
        "id": "M5PsX9qU0eQc",
        "colab": {
          "base_uri": "https://localhost:8080/"
        },
        "outputId": "4106243c-e57b-426c-c0b5-6f387730e475"
      },
      "source": [
        "%cd /content/drive/MyDrive/SSL/monodepth2"
      ],
      "execution_count": null,
      "outputs": [
        {
          "output_type": "stream",
          "name": "stdout",
          "text": [
            "/content/drive/MyDrive/SSL/monodepth2\n"
          ]
        }
      ]
    },
    {
      "cell_type": "code",
      "metadata": {
        "id": "pVH4O0kyO-PH",
        "colab": {
          "base_uri": "https://localhost:8080/"
        },
        "outputId": "369e0979-27f1-467e-976a-0d4dca5f2a84"
      },
      "source": [
        "!pip install tensorboardX==1.4"
      ],
      "execution_count": null,
      "outputs": [
        {
          "output_type": "stream",
          "name": "stdout",
          "text": [
            "Collecting tensorboardX==1.4\n",
            "  Downloading tensorboardX-1.4-py2.py3-none-any.whl (67 kB)\n",
            "\u001b[?25l\r\u001b[K     |████▉                           | 10 kB 38.2 MB/s eta 0:00:01\r\u001b[K     |█████████▊                      | 20 kB 44.1 MB/s eta 0:00:01\r\u001b[K     |██████████████▋                 | 30 kB 44.5 MB/s eta 0:00:01\r\u001b[K     |███████████████████▌            | 40 kB 25.2 MB/s eta 0:00:01\r\u001b[K     |████████████████████████▍       | 51 kB 15.9 MB/s eta 0:00:01\r\u001b[K     |█████████████████████████████▎  | 61 kB 14.1 MB/s eta 0:00:01\r\u001b[K     |████████████████████████████████| 67 kB 4.9 MB/s \n",
            "\u001b[?25hRequirement already satisfied: protobuf>=3.2.0 in /usr/local/lib/python3.7/dist-packages (from tensorboardX==1.4) (3.17.3)\n",
            "Requirement already satisfied: numpy in /usr/local/lib/python3.7/dist-packages (from tensorboardX==1.4) (1.19.5)\n",
            "Requirement already satisfied: six in /usr/local/lib/python3.7/dist-packages (from tensorboardX==1.4) (1.15.0)\n",
            "Installing collected packages: tensorboardX\n",
            "Successfully installed tensorboardX-1.4\n"
          ]
        }
      ]
    },
    {
      "cell_type": "markdown",
      "metadata": {
        "id": "-jJDFAMY0auQ"
      },
      "source": [
        "# Test with cifar\n"
      ]
    },
    {
      "cell_type": "code",
      "metadata": {
        "id": "-LL0ft-ji5sX"
      },
      "source": [
        "%cd '/content/drive/MyDrive/SSL/sparse_learning'\n",
        "!ls\n",
        "#!python3 setup.py install\n",
        "!pip3 install -r requirements.txt"
      ],
      "execution_count": null,
      "outputs": []
    },
    {
      "cell_type": "code",
      "metadata": {
        "id": "KXdsuHZIjFIW"
      },
      "source": [
        "%cd '/content/drive/MyDrive/SSL/sparse_learning'\n",
        "!python3 main.py --data CIFAR-10 --model wrn-22-8"
      ],
      "execution_count": null,
      "outputs": []
    },
    {
      "cell_type": "markdown",
      "metadata": {
        "id": "BDGFgXqWl4xF"
      },
      "source": [
        "# Test with monodepth\n"
      ]
    },
    {
      "cell_type": "markdown",
      "metadata": {
        "id": "Knb75W9ImFmE"
      },
      "source": [
        "##Options\n"
      ]
    },
    {
      "cell_type": "code",
      "metadata": {
        "id": "zU-O3lAk6jYK"
      },
      "source": [
        "%cd /content/drive/MyDrive/SSL/monodepth2"
      ],
      "execution_count": null,
      "outputs": []
    },
    {
      "cell_type": "markdown",
      "metadata": {
        "id": "EYt8r55ioQQv"
      },
      "source": [
        "Class Trainer"
      ]
    },
    {
      "cell_type": "markdown",
      "metadata": {
        "id": "RIcy9MwWYR5w"
      },
      "source": [
        "# Evaluation"
      ]
    },
    {
      "cell_type": "markdown",
      "metadata": {
        "id": "xppmejUy6stA"
      },
      "source": [
        "rmse được tính dựa trên công thức sau:\n",
        "gt là độ sâu thực\n",
        "pred là độ sâu dự đoán\n",
        "\n",
        "rmse = (gt - pred) ** 2 \n",
        "\n",
        "rmse = torch.sqrt(rmse.mean())\n",
        "\n",
        "rmse = Căn trung bình của bình phương sai số giữa độ sâu thực và độ sâu dự đoán"
      ]
    },
    {
      "cell_type": "markdown",
      "metadata": {
        "id": "8fxxjE1X7jkP"
      },
      "source": [
        "Cùng với ngưỡng cắt 50% thì prune theo độ quan trọng layer sẽ cho sai số nhỏ hơn cắt toàn bộ 50%"
      ]
    },
    {
      "cell_type": "markdown",
      "metadata": {
        "id": "C43zJgxrOEfy"
      },
      "source": [
        "##Evaluate origin model"
      ]
    },
    {
      "cell_type": "code",
      "metadata": {
        "id": "hYIXrQdbnzAl",
        "colab": {
          "base_uri": "https://localhost:8080/"
        },
        "outputId": "31666268-4173-4598-e2f1-c5e0c1728aaa"
      },
      "source": [
        "!python evaluate_depth.py --load_weights_folder /content/drive/MyDrive/SSL/monodepth2/newmodel/mono_model/models/weights_0/ --eval_mono"
      ],
      "execution_count": null,
      "outputs": [
        {
          "output_type": "stream",
          "name": "stdout",
          "text": [
            "-> Loading weights from /content/drive/MyDrive/SSL/monodepth2/newmodel/mono_model/models/weights_0/\n",
            "/usr/local/lib/python3.7/dist-packages/torchvision/transforms/transforms.py:288: UserWarning: Argument interpolation should be of type InterpolationMode instead of int. Please, use InterpolationMode enum.\n",
            "  \"Argument interpolation should be of type InterpolationMode instead of int. \"\n",
            "/usr/local/lib/python3.7/dist-packages/torch/utils/data/dataloader.py:481: UserWarning: This DataLoader will create 12 worker processes in total. Our suggested max number of worker in current system is 2, which is smaller than what this DataLoader is going to create. Please be aware that excessive worker creation might get DataLoader running slow or even freeze, lower the worker number to avoid potential slowness/freeze if necessary.\n",
            "  cpuset_checked))\n",
            "-> Computing predictions with size 640x192\n",
            "-> Evaluating\n",
            "   Mono evaluation - using median scaling\n",
            " Scaling ratios | med: 47.739 | std: 0.144\n",
            "\n",
            "   abs_rel |   sq_rel |     rmse | rmse_log |       a1 |       a2 |       a3 | \n",
            "&   0.240  &   2.022  &   8.300  &   0.337  &   0.597  &   0.834  &   0.929  \\\\\n",
            "\n",
            "-> Done!\n"
          ]
        }
      ]
    },
    {
      "cell_type": "markdown",
      "metadata": {
        "id": "F6s3yvoFOHyK"
      },
      "source": [
        "##Evaluate optimized model"
      ]
    },
    {
      "cell_type": "code",
      "metadata": {
        "id": "O5uoC2dXjyVn",
        "colab": {
          "base_uri": "https://localhost:8080/"
        },
        "outputId": "d2374b30-68c7-4b6b-f5ed-0edbe7db422b"
      },
      "source": [
        "!python evaluate_depth.py --load_weights_folder newmodel/mono_model/pruned/weights_0/ --eval_mono"
      ],
      "execution_count": null,
      "outputs": [
        {
          "output_type": "stream",
          "name": "stdout",
          "text": [
            "-> Loading weights from newmodel/mono_model/pruned/weights_0/\n",
            "/usr/local/lib/python3.7/dist-packages/torchvision/transforms/transforms.py:288: UserWarning: Argument interpolation should be of type InterpolationMode instead of int. Please, use InterpolationMode enum.\n",
            "  \"Argument interpolation should be of type InterpolationMode instead of int. \"\n",
            "/usr/local/lib/python3.7/dist-packages/torch/utils/data/dataloader.py:481: UserWarning: This DataLoader will create 12 worker processes in total. Our suggested max number of worker in current system is 2, which is smaller than what this DataLoader is going to create. Please be aware that excessive worker creation might get DataLoader running slow or even freeze, lower the worker number to avoid potential slowness/freeze if necessary.\n",
            "  cpuset_checked))\n",
            "-> Computing predictions with size 640x192\n",
            "-> Evaluating\n",
            "   Mono evaluation - using median scaling\n",
            " Scaling ratios | med: 49.043 | std: 0.141\n",
            "\n",
            "   abs_rel |   sq_rel |     rmse | rmse_log |       a1 |       a2 |       a3 | \n",
            "&   0.250  &   2.203  &   8.785  &   0.357  &   0.572  &   0.819  &   0.917  \\\\\n",
            "\n",
            "-> Done!\n"
          ]
        }
      ]
    },
    {
      "cell_type": "markdown",
      "metadata": {
        "id": "BF45tokz3gBw"
      },
      "source": [
        "##Evaluate origin model epoch1"
      ]
    },
    {
      "cell_type": "code",
      "metadata": {
        "colab": {
          "base_uri": "https://localhost:8080/"
        },
        "id": "g6Qmnfqo5cGq",
        "outputId": "5c83cdf1-01a2-471a-d6c7-5fe11a02ddf2"
      },
      "source": [
        "!python evaluate_depth.py --load_weights_folder newmodel/mono_model/models/weights_1/ --eval_mono"
      ],
      "execution_count": null,
      "outputs": [
        {
          "output_type": "stream",
          "name": "stdout",
          "text": [
            "-> Loading weights from newmodel/mono_model/models/weights_1/\n",
            "/usr/local/lib/python3.7/dist-packages/torchvision/transforms/transforms.py:288: UserWarning: Argument interpolation should be of type InterpolationMode instead of int. Please, use InterpolationMode enum.\n",
            "  \"Argument interpolation should be of type InterpolationMode instead of int. \"\n",
            "/usr/local/lib/python3.7/dist-packages/torch/utils/data/dataloader.py:481: UserWarning: This DataLoader will create 12 worker processes in total. Our suggested max number of worker in current system is 2, which is smaller than what this DataLoader is going to create. Please be aware that excessive worker creation might get DataLoader running slow or even freeze, lower the worker number to avoid potential slowness/freeze if necessary.\n",
            "  cpuset_checked))\n",
            "-> Computing predictions with size 640x192\n",
            "-> Evaluating\n",
            "   Mono evaluation - using median scaling\n",
            " Scaling ratios | med: 45.131 | std: 0.132\n",
            "\n",
            "   abs_rel |   sq_rel |     rmse | rmse_log |       a1 |       a2 |       a3 | \n",
            "&   0.226  &   1.947  &   8.201  &   0.325  &   0.627  &   0.843  &   0.932  \\\\\n",
            "\n",
            "-> Done!\n"
          ]
        }
      ]
    },
    {
      "cell_type": "code",
      "metadata": {
        "colab": {
          "base_uri": "https://localhost:8080/"
        },
        "id": "XUhlQjwXoB6t",
        "outputId": "fd648d71-f250-41b5-b3af-349b089a56d3"
      },
      "source": [
        "!python evaluate_depth.py --load_weights_folder newmodel/mono_model/pruned/weights_1/ --eval_mono"
      ],
      "execution_count": null,
      "outputs": [
        {
          "output_type": "stream",
          "name": "stdout",
          "text": [
            "-> Loading weights from newmodel/mono_model/pruned/weights_1/\n",
            "/usr/local/lib/python3.7/dist-packages/torchvision/transforms/transforms.py:288: UserWarning: Argument interpolation should be of type InterpolationMode instead of int. Please, use InterpolationMode enum.\n",
            "  \"Argument interpolation should be of type InterpolationMode instead of int. \"\n",
            "/usr/local/lib/python3.7/dist-packages/torch/utils/data/dataloader.py:481: UserWarning: This DataLoader will create 12 worker processes in total. Our suggested max number of worker in current system is 2, which is smaller than what this DataLoader is going to create. Please be aware that excessive worker creation might get DataLoader running slow or even freeze, lower the worker number to avoid potential slowness/freeze if necessary.\n",
            "  cpuset_checked))\n",
            "-> Computing predictions with size 640x192\n",
            "-> Evaluating\n",
            "   Mono evaluation - using median scaling\n",
            " Scaling ratios | med: 45.464 | std: 0.154\n",
            "\n",
            "   abs_rel |   sq_rel |     rmse | rmse_log |       a1 |       a2 |       a3 | \n",
            "&   0.242  &   2.143  &   8.574  &   0.344  &   0.591  &   0.826  &   0.923  \\\\\n",
            "\n",
            "-> Done!\n"
          ]
        }
      ]
    },
    {
      "cell_type": "markdown",
      "metadata": {
        "id": "v1SGU3TVobZY"
      },
      "source": [
        "##Evaluate origin model epoch2"
      ]
    },
    {
      "cell_type": "code",
      "metadata": {
        "colab": {
          "base_uri": "https://localhost:8080/"
        },
        "id": "TI2t2hp2obZy",
        "outputId": "08f5373d-89be-4f4c-a035-1c7b88dab578"
      },
      "source": [
        "!python evaluate_depth.py --load_weights_folder newmodel/mono_model/models/weights_2/ --eval_mono"
      ],
      "execution_count": null,
      "outputs": [
        {
          "output_type": "stream",
          "name": "stdout",
          "text": [
            "-> Loading weights from newmodel/mono_model/models/weights_2/\n",
            "/usr/local/lib/python3.7/dist-packages/torchvision/transforms/transforms.py:288: UserWarning: Argument interpolation should be of type InterpolationMode instead of int. Please, use InterpolationMode enum.\n",
            "  \"Argument interpolation should be of type InterpolationMode instead of int. \"\n",
            "/usr/local/lib/python3.7/dist-packages/torch/utils/data/dataloader.py:481: UserWarning: This DataLoader will create 12 worker processes in total. Our suggested max number of worker in current system is 2, which is smaller than what this DataLoader is going to create. Please be aware that excessive worker creation might get DataLoader running slow or even freeze, lower the worker number to avoid potential slowness/freeze if necessary.\n",
            "  cpuset_checked))\n",
            "-> Computing predictions with size 640x192\n",
            "-> Evaluating\n",
            "   Mono evaluation - using median scaling\n",
            " Scaling ratios | med: 45.853 | std: 0.156\n",
            "\n",
            "   abs_rel |   sq_rel |     rmse | rmse_log |       a1 |       a2 |       a3 | \n",
            "&   0.222  &   1.722  &   7.186  &   0.302  &   0.647  &   0.863  &   0.946  \\\\\n",
            "\n",
            "-> Done!\n"
          ]
        }
      ]
    },
    {
      "cell_type": "code",
      "metadata": {
        "colab": {
          "base_uri": "https://localhost:8080/"
        },
        "id": "ApZaCkHaobZz",
        "outputId": "e1b113be-c3cd-4733-9827-ee33a592eb08"
      },
      "source": [
        "!python evaluate_depth.py --load_weights_folder newmodel/mono_model/pruned/weights_2/ --eval_mono"
      ],
      "execution_count": null,
      "outputs": [
        {
          "output_type": "stream",
          "name": "stdout",
          "text": [
            "-> Loading weights from newmodel/mono_model/pruned/weights_2/\n",
            "/usr/local/lib/python3.7/dist-packages/torchvision/transforms/transforms.py:288: UserWarning: Argument interpolation should be of type InterpolationMode instead of int. Please, use InterpolationMode enum.\n",
            "  \"Argument interpolation should be of type InterpolationMode instead of int. \"\n",
            "/usr/local/lib/python3.7/dist-packages/torch/utils/data/dataloader.py:481: UserWarning: This DataLoader will create 12 worker processes in total. Our suggested max number of worker in current system is 2, which is smaller than what this DataLoader is going to create. Please be aware that excessive worker creation might get DataLoader running slow or even freeze, lower the worker number to avoid potential slowness/freeze if necessary.\n",
            "  cpuset_checked))\n",
            "-> Computing predictions with size 640x192\n",
            "-> Evaluating\n",
            "   Mono evaluation - using median scaling\n",
            " Scaling ratios | med: 47.340 | std: 0.150\n",
            "\n",
            "   abs_rel |   sq_rel |     rmse | rmse_log |       a1 |       a2 |       a3 | \n",
            "&   0.227  &   1.810  &   7.538  &   0.313  &   0.633  &   0.854  &   0.941  \\\\\n",
            "\n",
            "-> Done!\n"
          ]
        }
      ]
    }
  ]
}